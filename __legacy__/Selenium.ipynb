{
 "cells": [
  {
   "cell_type": "code",
   "execution_count": 1,
   "metadata": {},
   "outputs": [],
   "source": [
    "from selenium import webdriver\n",
    "from selenium.webdriver.common.keys import Keys\n",
    "import utils\n",
    "import time\n",
    "import pickle\n",
    "import pandas as pd\n",
    "import os"
   ]
  },
  {
   "cell_type": "code",
   "execution_count": 2,
   "metadata": {},
   "outputs": [],
   "source": [
    "driver = webdriver.Firefox()"
   ]
  },
  {
   "cell_type": "code",
   "execution_count": 3,
   "metadata": {},
   "outputs": [
    {
     "ename": "NameError",
     "evalue": "name 'poslanci_ids' is not defined",
     "output_type": "error",
     "traceback": [
      "\u001b[1;31m---------------------------------------------------------------------------\u001b[0m",
      "\u001b[1;31mNameError\u001b[0m                                 Traceback (most recent call last)",
      "\u001b[1;32m<ipython-input-3-b1c5da289dc1>\u001b[0m in \u001b[0;36m<module>\u001b[1;34m()\u001b[0m\n\u001b[0;32m      1\u001b[0m \u001b[0murl\u001b[0m \u001b[1;33m=\u001b[0m \u001b[1;34m\"https://www.nrsr.sk/web/Default.aspx?sid=schodze/rozprava/vyhladavanie&CisObdobia=7&PoslanecID={}\"\u001b[0m\u001b[1;33m\u001b[0m\u001b[0m\n\u001b[0;32m      2\u001b[0m \u001b[1;33m\u001b[0m\u001b[0m\n\u001b[1;32m----> 3\u001b[1;33m \u001b[1;32mfor\u001b[0m \u001b[0mi\u001b[0m \u001b[1;32min\u001b[0m \u001b[0mposlanci_ids\u001b[0m\u001b[1;33m:\u001b[0m\u001b[1;33m\u001b[0m\u001b[0m\n\u001b[0m\u001b[0;32m      4\u001b[0m     \u001b[0mdriver\u001b[0m\u001b[1;33m.\u001b[0m\u001b[0mget\u001b[0m\u001b[1;33m(\u001b[0m\u001b[0murl\u001b[0m\u001b[1;33m.\u001b[0m\u001b[0mformat\u001b[0m\u001b[1;33m(\u001b[0m\u001b[0mi\u001b[0m\u001b[1;33m)\u001b[0m\u001b[1;33m)\u001b[0m\u001b[1;33m\u001b[0m\u001b[0m\n\u001b[0;32m      5\u001b[0m     \u001b[0mj\u001b[0m \u001b[1;33m=\u001b[0m \u001b[1;36m1\u001b[0m\u001b[1;33m\u001b[0m\u001b[0m\n",
      "\u001b[1;31mNameError\u001b[0m: name 'poslanci_ids' is not defined"
     ]
    }
   ],
   "source": [
    "url = \"https://www.nrsr.sk/web/Default.aspx?sid=schodze/rozprava/vyhladavanie&CisObdobia=7&PoslanecID={}\"\n",
    "\n",
    "for i in poslanci_ids:\n",
    "    driver.get(url.format(i))\n",
    "    j = 1\n",
    "    while True:\n",
    "        print(\"Poslanec {} page {} done!\".format(i, j))\n",
    "        time.sleep(0.5)\n",
    "        try:\n",
    "            html = driver.find_element_by_class_name(\"tab_zoznam\").get_attribute(\"innerHTML\")\n",
    "            with open(\"data/htmls/html_{}_{}.pkl\".format(i, j), \"wb\") as f:\n",
    "                pickle.dump(html, f)\n",
    "        except:\n",
    "            break\n",
    "        j += 1\n",
    "        try:\n",
    "            driver.find_element_by_class_name(\"pager\").find_element_by_css_selector(\"a[href*='{}']\".format(j)).click()\n",
    "        except:\n",
    "            break\n"
   ]
  },
  {
   "cell_type": "code",
   "execution_count": 124,
   "metadata": {},
   "outputs": [],
   "source": [
    "driver.get(\"http://www.9gag.com\")"
   ]
  },
  {
   "cell_type": "code",
   "execution_count": 106,
   "metadata": {},
   "outputs": [],
   "source": [
    "df = pd.DataFrame(columns = [\"cas\", \"schodza\", \"tlac\", \"meno\", \"klub\", \"druh\"])\n",
    "\n",
    "for file in os.listdir(\"data/htmls/\"):\n",
    "    if \"html\" in file:\n",
    "        with open(\"data/htmls/{}\".format(file), \"rb\") as f:\n",
    "            h = pickle.load(f)\n",
    "        soup = BeautifulSoup(h, \"lxml\")\n",
    "        for entry in soup(\"tr\", attrs={\"class\": \"tab_zoznam_nalt\"}):\n",
    "            d = {}\n",
    "            data = [t.text.strip() for t in entry(\"span\")]\n",
    "            d[\"cas\"] = data[0]\n",
    "            d[\"schodza\"] = int(data[1].split(\".\")[0])\n",
    "            d[\"meno\"] = utils.change_name_order(data[4])\n",
    "            d[\"klub\"] = data[5]\n",
    "            d[\"druh\"] = data[7].split(\"\\n\")[0]\n",
    "            if \" \" in data[2]:\n",
    "                if \",\" in data[2]:\n",
    "                    d[\"tlac\"] = int(data[2].split(\" \")[1][:-1])\n",
    "                    df = df.append(d, ignore_index=True)\n",
    "                    d[\"tlac\"] = int(data[2].split(\" \")[2])\n",
    "                else:\n",
    "                    d[\"tlac\"] = int(data[2].split(\" \")[1])\n",
    "            \n",
    "            df = df.append(d, ignore_index=True)"
   ]
  },
  {
   "cell_type": "code",
   "execution_count": 107,
   "metadata": {},
   "outputs": [],
   "source": [
    "df.to_pickle(\"data/htmls/full.pkl\")"
   ]
  },
  {
   "cell_type": "code",
   "execution_count": 116,
   "metadata": {},
   "outputs": [],
   "source": [
    "ddf = df[[\"tlac\", \"druh\", \"meno\", \"cas\", \"schodza\"]].groupby([\"schodza\",\"tlac\", \"druh\", \"meno\"]).count()"
   ]
  },
  {
   "cell_type": "code",
   "execution_count": 118,
   "metadata": {},
   "outputs": [],
   "source": [
    "ddf.columns = [\"pocet\"]"
   ]
  },
  {
   "cell_type": "code",
   "execution_count": 121,
   "metadata": {},
   "outputs": [],
   "source": [
    "ddf.to_csv(\"data/htmls/suhrn.csv\", encoding=\"utf-8\")"
   ]
  }
 ],
 "metadata": {
  "kernelspec": {
   "display_name": "Python 3",
   "language": "python",
   "name": "python3"
  },
  "language_info": {
   "codemirror_mode": {
    "name": "ipython",
    "version": 3
   },
   "file_extension": ".py",
   "mimetype": "text/x-python",
   "name": "python",
   "nbconvert_exporter": "python",
   "pygments_lexer": "ipython3",
   "version": "3.6.6"
  }
 },
 "nbformat": 4,
 "nbformat_minor": 2
}
